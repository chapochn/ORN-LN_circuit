{
 "cells": [
  {
   "cell_type": "code",
   "execution_count": 1,
   "outputs": [
    {
     "name": "stdout",
     "output_type": "stream",
     "text": [
      "path plots: /Users/chapon01/ORN-LN_circuit/plots/plots_paper/20231024_124836\n",
      "DONE IMPORTING\n"
     ]
    },
    {
     "name": "stderr",
     "output_type": "stream",
     "text": [
      "/Users/chapon01/Dropbox (NYU Langone Health)/Documents_Work/science_play/projects/0classified/2023_ORN-LN_circuit/bin/plots_import.py:449: FutureWarning: DataFrame.groupby with axis=1 is deprecated. Do `frame.T.groupby(...)` without axis instead.\n",
      "  act_m = act.groupby(axis=1, level=('odor', 'conc')).mean()\n"
     ]
    }
   ],
   "source": [
    "import numpy as np\n",
    "import matplotlib.pyplot as plt\n",
    "import pandas as pd\n",
    "from plots_import import *\n",
    "def MAD(x):\n",
    "    return np.median(np.abs(x - np.median(x)))"
   ],
   "metadata": {
    "collapsed": false,
    "ExecuteTime": {
     "end_time": "2023-10-24T16:48:36.745943Z",
     "start_time": "2023-10-24T16:48:30.453568Z"
    }
   },
   "id": "68252af7e2691941"
  },
  {
   "cell_type": "code",
   "execution_count": 2,
   "outputs": [],
   "source": [
    "data = '../../data/Barnes/all.csv'\n",
    "data1 = '../../data/Barnes/broad-PN.csv'\n",
    "data2 = '../../data/Barnes/ORN-PN.csv'\n",
    "df = pd.read_csv(data)\n",
    "df1 = pd.read_csv(data1)\n",
    "df2 = pd.read_csv(data2)"
   ],
   "metadata": {
    "collapsed": false,
    "ExecuteTime": {
     "end_time": "2023-10-24T16:48:38.132933Z",
     "start_time": "2023-10-24T16:48:38.120796Z"
    }
   },
   "id": "a2f6ca19d15628a5"
  },
  {
   "cell_type": "code",
   "execution_count": 3,
   "outputs": [
    {
     "data": {
      "text/plain": "     circuit   pre_id        pre_name pre_side  pre_segment  post_id  \\\n0   broad-PN  7941642   broad D2 left        l          NaN  7851153   \n1   broad-PN  7941642   broad D2 left        l          NaN  7851153   \n2   broad-PN  7941642   broad D2 left        l          NaN  7852250   \n3   broad-PN  7941642   broad D2 left        l          NaN  7852250   \n4   broad-PN  7941642   broad D2 left        l          NaN  7852250   \n5   broad-PN  7941642   broad D2 left        l          NaN  7852250   \n6   broad-PN  7941642   broad D2 left        l          NaN  7852250   \n7   broad-PN  7941642   broad D2 left        l          NaN  7852250   \n8   broad-PN  7941642   broad D2 left        l          NaN  7852250   \n9   broad-PN  7941642   broad D2 left        l          NaN  7852250   \n10  broad-PN  7941642   broad D2 left        l          NaN  7852250   \n11  broad-PN  7941652   broad D1 left        l          NaN  7851153   \n12  broad-PN  7941652   broad D1 left        l          NaN  7852250   \n13  broad-PN  7941652   broad D1 left        l          NaN  7852250   \n14  broad-PN  7941652   broad D1 left        l          NaN  7852250   \n15  broad-PN  7941652   broad D1 left        l          NaN  7852250   \n16  broad-PN  7941652   broad D1 left        l          NaN  7852250   \n17  broad-PN  7941652   broad D1 left        l          NaN  7852250   \n18  broad-PN  7941652   broad D1 left        l          NaN  7852250   \n19  broad-PN  8198416  broad D1 right        r          NaN  8245146   \n20  broad-PN  8198416  broad D1 right        r          NaN  8245146   \n21  broad-PN  8198416  broad D1 right        r          NaN  8245146   \n22  broad-PN  8198416  broad D1 right        r          NaN  8245146   \n23  broad-PN  8198416  broad D1 right        r          NaN  8247451   \n24  broad-PN  8198416  broad D1 right        r          NaN  8247451   \n25  broad-PN  8198416  broad D1 right        r          NaN  8247451   \n26  broad-PN  8198416  broad D1 right        r          NaN  8247451   \n27  broad-PN  8198416  broad D1 right        r          NaN  8247451   \n28  broad-PN  8198416  broad D1 right        r          NaN  8247451   \n29  broad-PN  8198416  broad D1 right        r          NaN  8247451   \n30  broad-PN  8198416  broad D1 right        r          NaN  8247451   \n31  broad-PN  8198416  broad D1 right        r          NaN  8247451   \n32  broad-PN  8198416  broad D1 right        r          NaN  8247451   \n33  broad-PN  8198416  broad D1 right        r          NaN  8247451   \n34  broad-PN  8198416  broad D1 right        r          NaN  8247451   \n35  broad-PN  8198513  broad D2 right        r          NaN  8245146   \n36  broad-PN  8198513  broad D2 right        r          NaN  8245146   \n37  broad-PN  8198513  broad D2 right        r          NaN  8245146   \n38  broad-PN  8198513  broad D2 right        r          NaN  8245146   \n39  broad-PN  8198513  broad D2 right        r          NaN  8245146   \n40  broad-PN  8198513  broad D2 right        r          NaN  8247451   \n41  broad-PN  8198513  broad D2 right        r          NaN  8247451   \n42  broad-PN  8198513  broad D2 right        r          NaN  8247451   \n43  broad-PN  8198513  broad D2 right        r          NaN  8247451   \n44  broad-PN  8198513  broad D2 right        r          NaN  8247451   \n45  broad-PN  8198513  broad D2 right        r          NaN  8247451   \n46  broad-PN  8198513  broad D2 right        r          NaN  8247451   \n47  broad-PN  8198513  broad D2 right        r          NaN  8247451   \n48  broad-PN  8198513  broad D2 right        r          NaN  8247451   \n49  broad-PN  8198513  broad D2 right        r          NaN  8247451   \n50  broad-PN  8198513  broad D2 right        r          NaN  8247451   \n\n       post_name post_side  post_segment  connector_id  synaptic_area  \n0    82a PN left         l           NaN       6882678    3677.076427  \n1    82a PN left         l           NaN       6930862    6200.024708  \n2    45a PN left         l           NaN       3741629   12957.214088  \n3    45a PN left         l           NaN       6496201   15784.095856  \n4    45a PN left         l           NaN       6502457    7743.957283  \n5    45a PN left         l           NaN       6762934   14920.651441  \n6    45a PN left         l           NaN       6882222   16891.256864  \n7    45a PN left         l           NaN       6882451   10265.670349  \n8    45a PN left         l           NaN       6882678    7148.943521  \n9    45a PN left         l           NaN       6882678    7244.934580  \n10   45a PN left         l           NaN       6882779    9259.106880  \n11   82a PN left         l           NaN       5222647   13076.039675  \n12   45a PN left         l           NaN       3741123   12373.938724  \n13   45a PN left         l           NaN       5261447   17766.053586  \n14   45a PN left         l           NaN       5310346   12944.231867  \n15   45a PN left         l           NaN       6878581    8672.367721  \n16   45a PN left         l           NaN       7856054    8419.076284  \n17   45a PN left         l           NaN       7857228   11648.724704  \n18   45a PN left         l           NaN      19581607   10507.367400  \n19  82a PN right         r           NaN       4656763    2466.907572  \n20  82a PN right         r           NaN       7710855    2313.100319  \n21  82a PN right         r           NaN      15109835    5514.597217  \n22  82a PN right         r           NaN      15214981    3577.571851  \n23  45a PN right         r           NaN       4656763    6000.280711  \n24  45a PN right         r           NaN       4656763   11123.931595  \n25  45a PN right         r           NaN       7637669   15039.476412  \n26  45a PN right         r           NaN       7686496   11282.324785  \n27  45a PN right         r           NaN       7710719   12421.672200  \n28  45a PN right         r           NaN       7710855    4793.256443  \n29  45a PN right         r           NaN      10865216   14168.827476  \n30  45a PN right         r           NaN      14991479   32914.022764  \n31  45a PN right         r           NaN      14991535   11502.968149  \n32  45a PN right         r           NaN      14994554   15215.946794  \n33  45a PN right         r           NaN      15016363    7116.704038  \n34  45a PN right         r           NaN      16617798    6422.550055  \n35  82a PN right         r           NaN       7624739    7162.627178  \n36  82a PN right         r           NaN      14672149   11074.723755  \n37  82a PN right         r           NaN      14701624    4974.392502  \n38  82a PN right         r           NaN      14929267   24325.980721  \n39  82a PN right         r           NaN      14929736    8448.679721  \n40  45a PN right         r           NaN       4654782   13393.928800  \n41  45a PN right         r           NaN       7667905   12184.529842  \n42  45a PN right         r           NaN       7710533   17857.591175  \n43  45a PN right         r           NaN       7710902    9163.729417  \n44  45a PN right         r           NaN      10590547    7436.674411  \n45  45a PN right         r           NaN      10624603   10897.719795  \n46  45a PN right         r           NaN      10825224    5661.265083  \n47  45a PN right         r           NaN      14672149    9846.487710  \n48  45a PN right         r           NaN      14701624    2499.769029  \n49  45a PN right         r           NaN      14701624    9262.482288  \n50  45a PN right         r           NaN      14972330    4246.467308  ",
      "text/html": "<div>\n<style scoped>\n    .dataframe tbody tr th:only-of-type {\n        vertical-align: middle;\n    }\n\n    .dataframe tbody tr th {\n        vertical-align: top;\n    }\n\n    .dataframe thead th {\n        text-align: right;\n    }\n</style>\n<table border=\"1\" class=\"dataframe\">\n  <thead>\n    <tr style=\"text-align: right;\">\n      <th></th>\n      <th>circuit</th>\n      <th>pre_id</th>\n      <th>pre_name</th>\n      <th>pre_side</th>\n      <th>pre_segment</th>\n      <th>post_id</th>\n      <th>post_name</th>\n      <th>post_side</th>\n      <th>post_segment</th>\n      <th>connector_id</th>\n      <th>synaptic_area</th>\n    </tr>\n  </thead>\n  <tbody>\n    <tr>\n      <th>0</th>\n      <td>broad-PN</td>\n      <td>7941642</td>\n      <td>broad D2 left</td>\n      <td>l</td>\n      <td>NaN</td>\n      <td>7851153</td>\n      <td>82a PN left</td>\n      <td>l</td>\n      <td>NaN</td>\n      <td>6882678</td>\n      <td>3677.076427</td>\n    </tr>\n    <tr>\n      <th>1</th>\n      <td>broad-PN</td>\n      <td>7941642</td>\n      <td>broad D2 left</td>\n      <td>l</td>\n      <td>NaN</td>\n      <td>7851153</td>\n      <td>82a PN left</td>\n      <td>l</td>\n      <td>NaN</td>\n      <td>6930862</td>\n      <td>6200.024708</td>\n    </tr>\n    <tr>\n      <th>2</th>\n      <td>broad-PN</td>\n      <td>7941642</td>\n      <td>broad D2 left</td>\n      <td>l</td>\n      <td>NaN</td>\n      <td>7852250</td>\n      <td>45a PN left</td>\n      <td>l</td>\n      <td>NaN</td>\n      <td>3741629</td>\n      <td>12957.214088</td>\n    </tr>\n    <tr>\n      <th>3</th>\n      <td>broad-PN</td>\n      <td>7941642</td>\n      <td>broad D2 left</td>\n      <td>l</td>\n      <td>NaN</td>\n      <td>7852250</td>\n      <td>45a PN left</td>\n      <td>l</td>\n      <td>NaN</td>\n      <td>6496201</td>\n      <td>15784.095856</td>\n    </tr>\n    <tr>\n      <th>4</th>\n      <td>broad-PN</td>\n      <td>7941642</td>\n      <td>broad D2 left</td>\n      <td>l</td>\n      <td>NaN</td>\n      <td>7852250</td>\n      <td>45a PN left</td>\n      <td>l</td>\n      <td>NaN</td>\n      <td>6502457</td>\n      <td>7743.957283</td>\n    </tr>\n    <tr>\n      <th>5</th>\n      <td>broad-PN</td>\n      <td>7941642</td>\n      <td>broad D2 left</td>\n      <td>l</td>\n      <td>NaN</td>\n      <td>7852250</td>\n      <td>45a PN left</td>\n      <td>l</td>\n      <td>NaN</td>\n      <td>6762934</td>\n      <td>14920.651441</td>\n    </tr>\n    <tr>\n      <th>6</th>\n      <td>broad-PN</td>\n      <td>7941642</td>\n      <td>broad D2 left</td>\n      <td>l</td>\n      <td>NaN</td>\n      <td>7852250</td>\n      <td>45a PN left</td>\n      <td>l</td>\n      <td>NaN</td>\n      <td>6882222</td>\n      <td>16891.256864</td>\n    </tr>\n    <tr>\n      <th>7</th>\n      <td>broad-PN</td>\n      <td>7941642</td>\n      <td>broad D2 left</td>\n      <td>l</td>\n      <td>NaN</td>\n      <td>7852250</td>\n      <td>45a PN left</td>\n      <td>l</td>\n      <td>NaN</td>\n      <td>6882451</td>\n      <td>10265.670349</td>\n    </tr>\n    <tr>\n      <th>8</th>\n      <td>broad-PN</td>\n      <td>7941642</td>\n      <td>broad D2 left</td>\n      <td>l</td>\n      <td>NaN</td>\n      <td>7852250</td>\n      <td>45a PN left</td>\n      <td>l</td>\n      <td>NaN</td>\n      <td>6882678</td>\n      <td>7148.943521</td>\n    </tr>\n    <tr>\n      <th>9</th>\n      <td>broad-PN</td>\n      <td>7941642</td>\n      <td>broad D2 left</td>\n      <td>l</td>\n      <td>NaN</td>\n      <td>7852250</td>\n      <td>45a PN left</td>\n      <td>l</td>\n      <td>NaN</td>\n      <td>6882678</td>\n      <td>7244.934580</td>\n    </tr>\n    <tr>\n      <th>10</th>\n      <td>broad-PN</td>\n      <td>7941642</td>\n      <td>broad D2 left</td>\n      <td>l</td>\n      <td>NaN</td>\n      <td>7852250</td>\n      <td>45a PN left</td>\n      <td>l</td>\n      <td>NaN</td>\n      <td>6882779</td>\n      <td>9259.106880</td>\n    </tr>\n    <tr>\n      <th>11</th>\n      <td>broad-PN</td>\n      <td>7941652</td>\n      <td>broad D1 left</td>\n      <td>l</td>\n      <td>NaN</td>\n      <td>7851153</td>\n      <td>82a PN left</td>\n      <td>l</td>\n      <td>NaN</td>\n      <td>5222647</td>\n      <td>13076.039675</td>\n    </tr>\n    <tr>\n      <th>12</th>\n      <td>broad-PN</td>\n      <td>7941652</td>\n      <td>broad D1 left</td>\n      <td>l</td>\n      <td>NaN</td>\n      <td>7852250</td>\n      <td>45a PN left</td>\n      <td>l</td>\n      <td>NaN</td>\n      <td>3741123</td>\n      <td>12373.938724</td>\n    </tr>\n    <tr>\n      <th>13</th>\n      <td>broad-PN</td>\n      <td>7941652</td>\n      <td>broad D1 left</td>\n      <td>l</td>\n      <td>NaN</td>\n      <td>7852250</td>\n      <td>45a PN left</td>\n      <td>l</td>\n      <td>NaN</td>\n      <td>5261447</td>\n      <td>17766.053586</td>\n    </tr>\n    <tr>\n      <th>14</th>\n      <td>broad-PN</td>\n      <td>7941652</td>\n      <td>broad D1 left</td>\n      <td>l</td>\n      <td>NaN</td>\n      <td>7852250</td>\n      <td>45a PN left</td>\n      <td>l</td>\n      <td>NaN</td>\n      <td>5310346</td>\n      <td>12944.231867</td>\n    </tr>\n    <tr>\n      <th>15</th>\n      <td>broad-PN</td>\n      <td>7941652</td>\n      <td>broad D1 left</td>\n      <td>l</td>\n      <td>NaN</td>\n      <td>7852250</td>\n      <td>45a PN left</td>\n      <td>l</td>\n      <td>NaN</td>\n      <td>6878581</td>\n      <td>8672.367721</td>\n    </tr>\n    <tr>\n      <th>16</th>\n      <td>broad-PN</td>\n      <td>7941652</td>\n      <td>broad D1 left</td>\n      <td>l</td>\n      <td>NaN</td>\n      <td>7852250</td>\n      <td>45a PN left</td>\n      <td>l</td>\n      <td>NaN</td>\n      <td>7856054</td>\n      <td>8419.076284</td>\n    </tr>\n    <tr>\n      <th>17</th>\n      <td>broad-PN</td>\n      <td>7941652</td>\n      <td>broad D1 left</td>\n      <td>l</td>\n      <td>NaN</td>\n      <td>7852250</td>\n      <td>45a PN left</td>\n      <td>l</td>\n      <td>NaN</td>\n      <td>7857228</td>\n      <td>11648.724704</td>\n    </tr>\n    <tr>\n      <th>18</th>\n      <td>broad-PN</td>\n      <td>7941652</td>\n      <td>broad D1 left</td>\n      <td>l</td>\n      <td>NaN</td>\n      <td>7852250</td>\n      <td>45a PN left</td>\n      <td>l</td>\n      <td>NaN</td>\n      <td>19581607</td>\n      <td>10507.367400</td>\n    </tr>\n    <tr>\n      <th>19</th>\n      <td>broad-PN</td>\n      <td>8198416</td>\n      <td>broad D1 right</td>\n      <td>r</td>\n      <td>NaN</td>\n      <td>8245146</td>\n      <td>82a PN right</td>\n      <td>r</td>\n      <td>NaN</td>\n      <td>4656763</td>\n      <td>2466.907572</td>\n    </tr>\n    <tr>\n      <th>20</th>\n      <td>broad-PN</td>\n      <td>8198416</td>\n      <td>broad D1 right</td>\n      <td>r</td>\n      <td>NaN</td>\n      <td>8245146</td>\n      <td>82a PN right</td>\n      <td>r</td>\n      <td>NaN</td>\n      <td>7710855</td>\n      <td>2313.100319</td>\n    </tr>\n    <tr>\n      <th>21</th>\n      <td>broad-PN</td>\n      <td>8198416</td>\n      <td>broad D1 right</td>\n      <td>r</td>\n      <td>NaN</td>\n      <td>8245146</td>\n      <td>82a PN right</td>\n      <td>r</td>\n      <td>NaN</td>\n      <td>15109835</td>\n      <td>5514.597217</td>\n    </tr>\n    <tr>\n      <th>22</th>\n      <td>broad-PN</td>\n      <td>8198416</td>\n      <td>broad D1 right</td>\n      <td>r</td>\n      <td>NaN</td>\n      <td>8245146</td>\n      <td>82a PN right</td>\n      <td>r</td>\n      <td>NaN</td>\n      <td>15214981</td>\n      <td>3577.571851</td>\n    </tr>\n    <tr>\n      <th>23</th>\n      <td>broad-PN</td>\n      <td>8198416</td>\n      <td>broad D1 right</td>\n      <td>r</td>\n      <td>NaN</td>\n      <td>8247451</td>\n      <td>45a PN right</td>\n      <td>r</td>\n      <td>NaN</td>\n      <td>4656763</td>\n      <td>6000.280711</td>\n    </tr>\n    <tr>\n      <th>24</th>\n      <td>broad-PN</td>\n      <td>8198416</td>\n      <td>broad D1 right</td>\n      <td>r</td>\n      <td>NaN</td>\n      <td>8247451</td>\n      <td>45a PN right</td>\n      <td>r</td>\n      <td>NaN</td>\n      <td>4656763</td>\n      <td>11123.931595</td>\n    </tr>\n    <tr>\n      <th>25</th>\n      <td>broad-PN</td>\n      <td>8198416</td>\n      <td>broad D1 right</td>\n      <td>r</td>\n      <td>NaN</td>\n      <td>8247451</td>\n      <td>45a PN right</td>\n      <td>r</td>\n      <td>NaN</td>\n      <td>7637669</td>\n      <td>15039.476412</td>\n    </tr>\n    <tr>\n      <th>26</th>\n      <td>broad-PN</td>\n      <td>8198416</td>\n      <td>broad D1 right</td>\n      <td>r</td>\n      <td>NaN</td>\n      <td>8247451</td>\n      <td>45a PN right</td>\n      <td>r</td>\n      <td>NaN</td>\n      <td>7686496</td>\n      <td>11282.324785</td>\n    </tr>\n    <tr>\n      <th>27</th>\n      <td>broad-PN</td>\n      <td>8198416</td>\n      <td>broad D1 right</td>\n      <td>r</td>\n      <td>NaN</td>\n      <td>8247451</td>\n      <td>45a PN right</td>\n      <td>r</td>\n      <td>NaN</td>\n      <td>7710719</td>\n      <td>12421.672200</td>\n    </tr>\n    <tr>\n      <th>28</th>\n      <td>broad-PN</td>\n      <td>8198416</td>\n      <td>broad D1 right</td>\n      <td>r</td>\n      <td>NaN</td>\n      <td>8247451</td>\n      <td>45a PN right</td>\n      <td>r</td>\n      <td>NaN</td>\n      <td>7710855</td>\n      <td>4793.256443</td>\n    </tr>\n    <tr>\n      <th>29</th>\n      <td>broad-PN</td>\n      <td>8198416</td>\n      <td>broad D1 right</td>\n      <td>r</td>\n      <td>NaN</td>\n      <td>8247451</td>\n      <td>45a PN right</td>\n      <td>r</td>\n      <td>NaN</td>\n      <td>10865216</td>\n      <td>14168.827476</td>\n    </tr>\n    <tr>\n      <th>30</th>\n      <td>broad-PN</td>\n      <td>8198416</td>\n      <td>broad D1 right</td>\n      <td>r</td>\n      <td>NaN</td>\n      <td>8247451</td>\n      <td>45a PN right</td>\n      <td>r</td>\n      <td>NaN</td>\n      <td>14991479</td>\n      <td>32914.022764</td>\n    </tr>\n    <tr>\n      <th>31</th>\n      <td>broad-PN</td>\n      <td>8198416</td>\n      <td>broad D1 right</td>\n      <td>r</td>\n      <td>NaN</td>\n      <td>8247451</td>\n      <td>45a PN right</td>\n      <td>r</td>\n      <td>NaN</td>\n      <td>14991535</td>\n      <td>11502.968149</td>\n    </tr>\n    <tr>\n      <th>32</th>\n      <td>broad-PN</td>\n      <td>8198416</td>\n      <td>broad D1 right</td>\n      <td>r</td>\n      <td>NaN</td>\n      <td>8247451</td>\n      <td>45a PN right</td>\n      <td>r</td>\n      <td>NaN</td>\n      <td>14994554</td>\n      <td>15215.946794</td>\n    </tr>\n    <tr>\n      <th>33</th>\n      <td>broad-PN</td>\n      <td>8198416</td>\n      <td>broad D1 right</td>\n      <td>r</td>\n      <td>NaN</td>\n      <td>8247451</td>\n      <td>45a PN right</td>\n      <td>r</td>\n      <td>NaN</td>\n      <td>15016363</td>\n      <td>7116.704038</td>\n    </tr>\n    <tr>\n      <th>34</th>\n      <td>broad-PN</td>\n      <td>8198416</td>\n      <td>broad D1 right</td>\n      <td>r</td>\n      <td>NaN</td>\n      <td>8247451</td>\n      <td>45a PN right</td>\n      <td>r</td>\n      <td>NaN</td>\n      <td>16617798</td>\n      <td>6422.550055</td>\n    </tr>\n    <tr>\n      <th>35</th>\n      <td>broad-PN</td>\n      <td>8198513</td>\n      <td>broad D2 right</td>\n      <td>r</td>\n      <td>NaN</td>\n      <td>8245146</td>\n      <td>82a PN right</td>\n      <td>r</td>\n      <td>NaN</td>\n      <td>7624739</td>\n      <td>7162.627178</td>\n    </tr>\n    <tr>\n      <th>36</th>\n      <td>broad-PN</td>\n      <td>8198513</td>\n      <td>broad D2 right</td>\n      <td>r</td>\n      <td>NaN</td>\n      <td>8245146</td>\n      <td>82a PN right</td>\n      <td>r</td>\n      <td>NaN</td>\n      <td>14672149</td>\n      <td>11074.723755</td>\n    </tr>\n    <tr>\n      <th>37</th>\n      <td>broad-PN</td>\n      <td>8198513</td>\n      <td>broad D2 right</td>\n      <td>r</td>\n      <td>NaN</td>\n      <td>8245146</td>\n      <td>82a PN right</td>\n      <td>r</td>\n      <td>NaN</td>\n      <td>14701624</td>\n      <td>4974.392502</td>\n    </tr>\n    <tr>\n      <th>38</th>\n      <td>broad-PN</td>\n      <td>8198513</td>\n      <td>broad D2 right</td>\n      <td>r</td>\n      <td>NaN</td>\n      <td>8245146</td>\n      <td>82a PN right</td>\n      <td>r</td>\n      <td>NaN</td>\n      <td>14929267</td>\n      <td>24325.980721</td>\n    </tr>\n    <tr>\n      <th>39</th>\n      <td>broad-PN</td>\n      <td>8198513</td>\n      <td>broad D2 right</td>\n      <td>r</td>\n      <td>NaN</td>\n      <td>8245146</td>\n      <td>82a PN right</td>\n      <td>r</td>\n      <td>NaN</td>\n      <td>14929736</td>\n      <td>8448.679721</td>\n    </tr>\n    <tr>\n      <th>40</th>\n      <td>broad-PN</td>\n      <td>8198513</td>\n      <td>broad D2 right</td>\n      <td>r</td>\n      <td>NaN</td>\n      <td>8247451</td>\n      <td>45a PN right</td>\n      <td>r</td>\n      <td>NaN</td>\n      <td>4654782</td>\n      <td>13393.928800</td>\n    </tr>\n    <tr>\n      <th>41</th>\n      <td>broad-PN</td>\n      <td>8198513</td>\n      <td>broad D2 right</td>\n      <td>r</td>\n      <td>NaN</td>\n      <td>8247451</td>\n      <td>45a PN right</td>\n      <td>r</td>\n      <td>NaN</td>\n      <td>7667905</td>\n      <td>12184.529842</td>\n    </tr>\n    <tr>\n      <th>42</th>\n      <td>broad-PN</td>\n      <td>8198513</td>\n      <td>broad D2 right</td>\n      <td>r</td>\n      <td>NaN</td>\n      <td>8247451</td>\n      <td>45a PN right</td>\n      <td>r</td>\n      <td>NaN</td>\n      <td>7710533</td>\n      <td>17857.591175</td>\n    </tr>\n    <tr>\n      <th>43</th>\n      <td>broad-PN</td>\n      <td>8198513</td>\n      <td>broad D2 right</td>\n      <td>r</td>\n      <td>NaN</td>\n      <td>8247451</td>\n      <td>45a PN right</td>\n      <td>r</td>\n      <td>NaN</td>\n      <td>7710902</td>\n      <td>9163.729417</td>\n    </tr>\n    <tr>\n      <th>44</th>\n      <td>broad-PN</td>\n      <td>8198513</td>\n      <td>broad D2 right</td>\n      <td>r</td>\n      <td>NaN</td>\n      <td>8247451</td>\n      <td>45a PN right</td>\n      <td>r</td>\n      <td>NaN</td>\n      <td>10590547</td>\n      <td>7436.674411</td>\n    </tr>\n    <tr>\n      <th>45</th>\n      <td>broad-PN</td>\n      <td>8198513</td>\n      <td>broad D2 right</td>\n      <td>r</td>\n      <td>NaN</td>\n      <td>8247451</td>\n      <td>45a PN right</td>\n      <td>r</td>\n      <td>NaN</td>\n      <td>10624603</td>\n      <td>10897.719795</td>\n    </tr>\n    <tr>\n      <th>46</th>\n      <td>broad-PN</td>\n      <td>8198513</td>\n      <td>broad D2 right</td>\n      <td>r</td>\n      <td>NaN</td>\n      <td>8247451</td>\n      <td>45a PN right</td>\n      <td>r</td>\n      <td>NaN</td>\n      <td>10825224</td>\n      <td>5661.265083</td>\n    </tr>\n    <tr>\n      <th>47</th>\n      <td>broad-PN</td>\n      <td>8198513</td>\n      <td>broad D2 right</td>\n      <td>r</td>\n      <td>NaN</td>\n      <td>8247451</td>\n      <td>45a PN right</td>\n      <td>r</td>\n      <td>NaN</td>\n      <td>14672149</td>\n      <td>9846.487710</td>\n    </tr>\n    <tr>\n      <th>48</th>\n      <td>broad-PN</td>\n      <td>8198513</td>\n      <td>broad D2 right</td>\n      <td>r</td>\n      <td>NaN</td>\n      <td>8247451</td>\n      <td>45a PN right</td>\n      <td>r</td>\n      <td>NaN</td>\n      <td>14701624</td>\n      <td>2499.769029</td>\n    </tr>\n    <tr>\n      <th>49</th>\n      <td>broad-PN</td>\n      <td>8198513</td>\n      <td>broad D2 right</td>\n      <td>r</td>\n      <td>NaN</td>\n      <td>8247451</td>\n      <td>45a PN right</td>\n      <td>r</td>\n      <td>NaN</td>\n      <td>14701624</td>\n      <td>9262.482288</td>\n    </tr>\n    <tr>\n      <th>50</th>\n      <td>broad-PN</td>\n      <td>8198513</td>\n      <td>broad D2 right</td>\n      <td>r</td>\n      <td>NaN</td>\n      <td>8247451</td>\n      <td>45a PN right</td>\n      <td>r</td>\n      <td>NaN</td>\n      <td>14972330</td>\n      <td>4246.467308</td>\n    </tr>\n  </tbody>\n</table>\n</div>"
     },
     "execution_count": 3,
     "metadata": {},
     "output_type": "execute_result"
    }
   ],
   "source": [
    "df1"
   ],
   "metadata": {
    "collapsed": false,
    "ExecuteTime": {
     "end_time": "2023-10-09T20:21:59.091881Z",
     "start_time": "2023-10-09T20:21:59.074284Z"
    }
   },
   "id": "283712b440decdab"
  },
  {
   "cell_type": "code",
   "execution_count": 14,
   "outputs": [
    {
     "name": "stdout",
     "output_type": "stream",
     "text": [
      "61400.706560638115 924.4769196334198\n"
     ]
    }
   ],
   "source": [
    "import itertools\n",
    "dfs = {}\n",
    "dfs1 = {}\n",
    "medians = {}\n",
    "MADs = {}\n",
    "\n",
    "# importing the data\n",
    "for N1, N2 in itertools.product(['broad D1', 'broad D2', '45a ORN', '82a ORN'], ['45a PN', '82a PN']):\n",
    "    # print(N1, N2)\n",
    "    key = f'{N1}-{N2}'\n",
    "    dfs1[f'{key}-left'] = df.query(f'`pre_name`==\"{N1} left\" & `post_name`==\"{N2} left\"')['synaptic_area']\n",
    "    dfs1[f'{key}-right'] = df.query(f'`pre_name`==\"{N1} right\" & `post_name`==\"{N2} right\"')['synaptic_area']\n",
    "    dfs[f'{key}'] = pd.concat((dfs1[f'{key}-left'], dfs1[f'{key}-right']))\n",
    "    data = dfs[key]\n",
    "    medians[key] = np.median(np.log10(data))\n",
    "    MADs[key] = MAD(np.log10(data))\n",
    "        \n",
    "max_syn_size = np.max([np.max(df) for df in dfs.values()])\n",
    "min_syn_size = np.min([np.min(df) for df in dfs.values()])\n",
    "print(max_syn_size, min_syn_size)\n",
    "factor = 2\n",
    "\n",
    "def get_median_mad(factor, min_syn_size, max_syn_size):\n",
    "    medians1 = {}\n",
    "    MADs1 = {}\n",
    "    medians2 = {}\n",
    "    MADs2 = {}\n",
    "    for N1, N2 in itertools.product(['broad D1', 'broad D2', '45a ORN', '82a ORN'], ['45a PN', '82a PN']):   \n",
    "        for k in ['left', 'right']:\n",
    "            key1 = f'{N1}-{N2}-{k}'\n",
    "            data = dfs1[key1].to_numpy()\n",
    "            medians1[key1] = np.median(np.log10(data))\n",
    "            MADs1[key1] = MAD(np.log10(data))\n",
    "\n",
    "            # performing LTP/LTD\n",
    "            # LTD\n",
    "            if np.random.rand()>0.5:\n",
    "                data = np.where(data/factor>min_syn_size, data/factor, min_syn_size)\n",
    "            # LTP\n",
    "            else:\n",
    "                data = np.where(data*factor<max_syn_size, data*factor, max_syn_size)\n",
    "            medians2[key1] = np.median(np.log10(data))\n",
    "            MADs2[key1] = MAD(np.log10(data))\n",
    "\n",
    "    return medians1, MADs1, medians2, MADs2"
   ],
   "metadata": {
    "collapsed": false,
    "ExecuteTime": {
     "end_time": "2023-10-24T16:59:39.723316Z",
     "start_time": "2023-10-24T16:59:39.705664Z"
    }
   },
   "id": "557e571597020042"
  },
  {
   "cell_type": "code",
   "execution_count": 15,
   "outputs": [
    {
     "name": "stdout",
     "output_type": "stream",
     "text": [
      "number of synapses per connection\n"
     ]
    },
    {
     "data": {
      "text/plain": "[7, 12, 1, 4, 9, 11, 2, 5, 60, 80, 4, 4, 14, 4, 15, 24]"
     },
     "execution_count": 15,
     "metadata": {},
     "output_type": "execute_result"
    }
   ],
   "source": [
    "print('number of synapses per connection')\n",
    "[len(df) for df in dfs1.values()]"
   ],
   "metadata": {
    "collapsed": false,
    "ExecuteTime": {
     "end_time": "2023-10-24T16:59:40.503238Z",
     "start_time": "2023-10-24T16:59:40.484072Z"
    }
   },
   "id": "13c4510594aa9f1c"
  },
  {
   "cell_type": "code",
   "execution_count": 20,
   "outputs": [
    {
     "data": {
      "text/plain": "<Figure size 212.5x180 with 1 Axes>",
      "image/png": "[encoded data removed]"
     },
     "metadata": {},
     "output_type": "display_data"
    },
    {
     "name": "stdout",
     "output_type": "stream",
     "text": [
      "correlation original: -0.056103096122357886\n",
      "correlation L and R separated: 0.40794900208566337\n",
      "correlation LNs: 0.05698334151290433\n",
      "correlation PNs: 0.31988144868325985\n"
     ]
    }
   ],
   "source": [
    "medians1, MADs1, _, _ = get_median_mad(factor, min_syn_size, max_syn_size)\n",
    "\n",
    "medians_np = np.array(list(medians.values()))  # combining all the connections\n",
    "MADs_np = np.array(list(MADs.values()))\n",
    "\n",
    "medians1_np = np.array(list(medians1.values()))\n",
    "MADs1_np = np.array(list(MADs1.values()))\n",
    "\n",
    "medians1LN_np = np.array([medians1[k] for k in medians1.keys() if 'broad' in k])\n",
    "MADs1LN_np = np.array([MADs1[k] for k in MADs1.keys() if 'broad' in k])\n",
    "\n",
    "medians1PN_np = np.array([medians1[k] for k in medians1.keys() if 'broad' not in k])\n",
    "MADs1PN_np = np.array([MADs1[k] for k in MADs1.keys() if 'broad' not in k])\n",
    "\n",
    "pads = (0.4, 0.1, 0.4, 0.1)\n",
    "fs, ax1 = FP.calc_fs_ax(pads, 25*SQ, 20*SQ)\n",
    "f = plt.figure(figsize=fs)\n",
    "ax = f.add_axes(ax1)\n",
    "lab1 = f'left and right synapses\\nmerged, corr= {np.corrcoef(MADs_np, medians_np)[0,1]:.2f}'\n",
    "lab2 = f'left and right synapses\\nseparated, corr= {np.corrcoef(MADs1_np[MADs1_np>0], medians1_np[MADs1_np>0])[0,1]:.2f}'\n",
    "ax.scatter(MADs_np, medians_np, label=lab1, s=10)\n",
    "ax.scatter(MADs1_np[MADs1_np>0], medians1_np[MADs1_np>0], label=lab2, s=10)\n",
    "\n",
    "ax.set_xlabel(r'MAD$[\\log_{10}($synaptic sizes/nm\\textsuperscript{2}$)]$')\n",
    "ax.set_ylabel(r'median$[\\log_{10}($synaptic sizes/nm\\textsuperscript{2}$)]$')\n",
    "plt.legend(loc=3)\n",
    "\n",
    "plt.show()\n",
    "\n",
    "file = f'{PP_CONN}/median_MAD'\n",
    "FP.save_plot(f, file + '.png', SAVE_PLOTS, **png_opts)\n",
    "FP.save_plot(f, file + '.pdf', SAVE_PLOTS, **pdf_opts)\n",
    "print('correlation original:', np.corrcoef(MADs_np, medians_np)[0,1])\n",
    "corrs_initial = np.corrcoef(MADs1_np[MADs1_np>0], medians1_np[MADs1_np>0])[0,1]\n",
    "print('correlation L and R separated:', corrs_initial)\n",
    "print('correlation LNs:', np.corrcoef(MADs1LN_np[MADs1LN_np>0], medians1LN_np[MADs1LN_np>0])[0,1])\n",
    "print('correlation PNs:', np.corrcoef(MADs1PN_np, medians1PN_np)[0,1])\n"
   ],
   "metadata": {
    "collapsed": false,
    "ExecuteTime": {
     "end_time": "2023-10-24T17:16:42.994828Z",
     "start_time": "2023-10-24T17:16:42.837170Z"
    }
   },
   "id": "d342dda529601d95"
  },
  {
   "cell_type": "code",
   "execution_count": 21,
   "outputs": [],
   "source": [
    "# simulations of LTP/LTD\n",
    "\n",
    "n_iter = 20000\n",
    "\n",
    "corrs2 = np.empty(n_iter)\n",
    "\n",
    "for i in range(n_iter):\n",
    "    _, _, medians2, MADs2 = get_median_mad(factor, min_syn_size, max_syn_size)\n",
    "    medians2_np = np.array(list(medians2.values()))\n",
    "    MADs2_np = np.array(list(MADs2.values()))\n",
    "\n",
    "    corrs2[i] = np.corrcoef(MADs2_np[MADs1_np>0], medians2_np[MADs1_np>0])[0,1]\n",
    "\n",
    "# putting [MADs1_np>0] removed the one synaptic connection that only has one synapse, forgot to do that in the letter"
   ],
   "metadata": {
    "collapsed": false,
    "ExecuteTime": {
     "end_time": "2023-10-24T17:17:37.512580Z",
     "start_time": "2023-10-24T17:17:21.186295Z"
    }
   },
   "id": "e35a3f465454194b"
  },
  {
   "cell_type": "code",
   "execution_count": 24,
   "outputs": [
    {
     "data": {
      "text/plain": "<Figure size 212.5x180 with 1 Axes>",
      "image/png": "[encoded data removed]"
     },
     "metadata": {},
     "output_type": "display_data"
    },
    {
     "name": "stdout",
     "output_type": "stream",
     "text": [
      "0.20825\n",
      "0.84845\n",
      "0.040000000000000036\n"
     ]
    }
   ],
   "source": [
    "pads = (0.4, 0.1, 0.4, 0.1)\n",
    "fs, ax1 = FP.calc_fs_ax(pads, 25*SQ, 20*SQ)\n",
    "f = plt.figure(figsize=fs)\n",
    "ax = f.add_axes(ax1)\n",
    "bins = np.linspace(-1, 1, 51)\n",
    "ax.hist(corrs2, bins=bins, color='g', alpha=0.7, label='after plasticity')\n",
    "ax.plot([corrs_initial, corrs_initial], [0, 1400], color='k', label='original corr. coef')\n",
    "ax.set_xlabel('correlation coefficient')\n",
    "ax.set_ylabel('count')\n",
    "ax.set_xlim(-0.8, 0.8)\n",
    "plt.legend(loc='upper left', bbox_to_anchor=[0.02, 1])\n",
    "plt.show()\n",
    "file = f'{PP_CONN}/corr_coef'\n",
    "FP.save_plot(f, file + '.png', SAVE_PLOTS, **png_opts)\n",
    "FP.save_plot(f, file + '.pdf', SAVE_PLOTS, **pdf_opts)\n",
    "print(np.mean(corrs2>corrs_initial))\n",
    "print(np.mean(corrs2>0))\n",
    "print(bins[1]- bins[0])"
   ],
   "metadata": {
    "collapsed": false,
    "ExecuteTime": {
     "end_time": "2023-10-24T17:18:29.752098Z",
     "start_time": "2023-10-24T17:18:29.591804Z"
    }
   },
   "id": "d97996e8c75c037f"
  },
  {
   "cell_type": "code",
   "execution_count": null,
   "outputs": [],
   "source": [],
   "metadata": {
    "collapsed": false
   },
   "id": "aa384c12d44ebdf1"
  }
 ],
 "metadata": {
  "kernelspec": {
   "display_name": "Python 3",
   "language": "python",
   "name": "python3"
  },
  "language_info": {
   "codemirror_mode": {
    "name": "ipython",
    "version": 2
   },
   "file_extension": ".py",
   "mimetype": "text/x-python",
   "name": "python",
   "nbconvert_exporter": "python",
   "pygments_lexer": "ipython2",
   "version": "2.7.6"
  }
 },
 "nbformat": 4,
 "nbformat_minor": 5
}
